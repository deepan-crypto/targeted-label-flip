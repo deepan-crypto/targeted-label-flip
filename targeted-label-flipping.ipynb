{
 "cells": [
  {
   "cell_type": "code",
   "execution_count": null,
   "metadata": {
    "id": "HlLJec-xPxt2"
   },
   "outputs": [],
   "source": [
    "import numpy as np\n",
    "\n",
    "def targeted_class_label_flip(X, y, target_class=0, flip_to_class=1, flip_fraction=0.5, seed=42):\n",
    "    \"\"\"\n",
    "    Flips a fraction of labels from the target_class to the flip_to_class.\n",
    "    This simulates a targeted label flipping attack.\n",
    "    \"\"\"\n",
    "    np.random.seed(seed)\n",
    "\n",
    "    # Find indices of the target class\n",
    "    target_indices = np.where(y == target_class)[0]\n",
    "\n",
    "    # Determine number of samples to flip\n",
    "    n_to_flip = int(len(target_indices) * flip_fraction)\n",
    "\n",
    "    # Randomly choose which target_class samples to flip\n",
    "    flip_indices = np.random.choice(target_indices, n_to_flip, replace=False)\n",
    "\n",
    "    # Copy labels to avoid modifying original\n",
    "    y_poisoned = np.copy(y)\n",
    "    y_poisoned[flip_indices] = flip_to_class\n",
    "\n",
    "    return X, y_poisoned\n"
   ]
  },
  {
   "cell_type": "code",
   "execution_count": null,
   "metadata": {
    "colab": {
     "base_uri": "https://localhost:8080/"
    },
    "executionInfo": {
     "elapsed": 426,
     "status": "ok",
     "timestamp": 1753697499386,
     "user": {
      "displayName": "htb student",
      "userId": "12566948904836042375"
     },
     "user_tz": -330
    },
    "id": "UtjC4ge3P3FQ",
    "outputId": "364df42d-a55f-4dc7-bf0d-fd437e6cfab6"
   },
   "outputs": [],
   "source": [
    "import numpy as np\n",
    "import json\n",
    "import requests\n",
    "from sklearn.linear_model import LogisticRegression\n",
    "import os\n",
    "\n",
    "dataset_filename = \"label_flipping_dataset.npz\"\n",
    "random_seed = 1337  # Seed for reproducibility in attack & model training\n",
    "np.random.seed(random_seed)  # Apply seed globally if needed, or pass to functions\n",
    "\n",
    "# >>> IMPORTANT: SET THIS VARIABLE TO YOUR SPAWNED INSTANCE IP AND PORT<<<\n",
    "evaluator_base_url = \"http://94.237.54.192:49383\"  # CHANGE THIS\n",
    "# Example: evaluator_base_url = \"http://10.10.10.1:5555\"\n",
    "\n",
    "# Attack Configuration\n",
    "TARGET_CLASS_TO_POISON = 0  # We want to make the model bad at identifying Class 0\n",
    "NEW_LABEL_FOR_POISONED = 1  # We want it to predict Class 1 instead\n",
    "POISON_FRACTION = 0.7\n",
    "\n",
    "# Load Data\n",
    "print(f\"Loading data from: {dataset_filename}\")\n",
    "try:\n",
    "    data = np.load(dataset_filename)\n",
    "    X_train = data[\"Xtr\"]\n",
    "    y_train = data[\"ytr\"]\n",
    "    X_test = data[\"Xte\"]\n",
    "    y_test = data[\"yte\"]\n",
    "    print(\"Data loaded successfully.\")\n",
    "    print(f\"X_train shape: {X_train.shape}, y_train shape: {y_train.shape}\")\n",
    "    unique_classes_train = np.unique(y_train)\n",
    "    print(f\"Unique classes in training data: {unique_classes_train}\")\n",
    "    if (\n",
    "        TARGET_CLASS_TO_POISON not in unique_classes_train\n",
    "        or NEW_LABEL_FOR_POISONED not in unique_classes_train\n",
    "    ):\n",
    "        print(\"Warning: Target or new label class not found in training data.\")\n",
    "    data.close()\n",
    "except FileNotFoundError:\n",
    "    print(f\"Error: Dataset file '{dataset_filename}' not found.\")\n",
    "    raise\n",
    "except KeyError as e:\n",
    "    print(f\"Error: Could not find expected array key '{e}' in the .npz file.\")\n",
    "    raise\n",
    "except Exception as e:\n",
    "    print(f\"An unexpected error occurred during data loading: {e}\")\n",
    "    raise"
   ]
  },
  {
   "cell_type": "code",
   "execution_count": null,
   "metadata": {
    "colab": {
     "base_uri": "https://localhost:8080/"
    },
    "executionInfo": {
     "elapsed": 17,
     "status": "ok",
     "timestamp": 1753693613095,
     "user": {
      "displayName": "htb student",
      "userId": "12566948904836042375"
     },
     "user_tz": -330
    },
    "id": "pgqPvBIvSNsl",
    "outputId": "223f6daa-dab4-41f5-e8e1-0fcda3d35523"
   },
   "outputs": [],
   "source": [
    "def targeted_class_label_flip(y, target_class=0, new_label=1, poison_fraction=0.7, seed=1337):\n",
    "    np.random.seed(seed)\n",
    "    target_indices = np.where(y == target_class)[0]\n",
    "    n_to_flip = int(len(target_indices) * poison_fraction)\n",
    "    flip_indices = np.random.choice(target_indices, n_to_flip, replace=False)\n",
    "    y_poisoned = np.copy(y)\n",
    "    y_poisoned[flip_indices] = new_label\n",
    "    return y_poisoned, flip_indices\n",
    "\n",
    "y_train_poisoned, flipped_idx = targeted_class_label_flip(\n",
    "    y_train,\n",
    "    target_class=TARGET_CLASS_TO_POISON,\n",
    "    new_label=NEW_LABEL_FOR_POISONED,\n",
    "    poison_fraction=POISON_FRACTION,\n",
    "    seed=random_seed,\n",
    ")\n",
    "\n",
    "print(f\"✅ Flipped {len(flipped_idx)} labels in training data.\")\n"
   ]
  },
  {
   "cell_type": "code",
   "execution_count": null,
   "metadata": {
    "colab": {
     "base_uri": "https://localhost:8080/",
     "height": 276
    },
    "executionInfo": {
     "elapsed": 192,
     "status": "error",
     "timestamp": 1753697337482,
     "user": {
      "displayName": "htb student",
      "userId": "12566948904836042375"
     },
     "user_tz": -330
    },
    "id": "jnH_Qx00gUUB",
    "outputId": "5f6bf5a4-c1f7-44d1-832f-f936499a9351"
   },
   "outputs": [],
   "source": [
    "# %%\n",
    "random_seed = 1337  # Make sure this is defined\n",
    "\n",
    "print(\"\\n--- Training Model on Poisoned Labels ---\")\n",
    "model = LogisticRegression(solver=\"lbfgs\", max_iter=1000, random_state=random_seed)\n",
    "\n",
    "try:\n",
    "    model.fit(X_train, y_train_poisoned)\n",
    "    print(\"Logistic Regression model trained successfully.\")\n",
    "except Exception as e:\n",
    "    print(f\"Error during model training: {e}\")\n",
    "    raise\n"
   ]
  },
  {
   "cell_type": "code",
   "execution_count": null,
   "metadata": {
    "colab": {
     "base_uri": "https://localhost:8080/",
     "height": 80
    },
    "executionInfo": {
     "elapsed": 204,
     "status": "ok",
     "timestamp": 1753693630387,
     "user": {
      "displayName": "htb student",
      "userId": "12566948904836042375"
     },
     "user_tz": -330
    },
    "id": "l4aay1YcSSH0",
    "outputId": "e19ac298-be25-4ca8-c484-c58ad0a42989"
   },
   "outputs": [],
   "source": [
    "# Train a simple Logistic Regression model\n",
    "model = LogisticRegression(solver=\"lbfgs\", max_iter=1000, random_state=random_seed)\n",
    "model.fit(X_train, y_train_poisoned)\n"
   ]
  },
  {
   "cell_type": "code",
   "execution_count": null,
   "metadata": {
    "id": "wkd1vaEagkwO"
   },
   "outputs": [],
   "source": [
    "import numpy as np\n",
    "\n",
    "dataset_filename = \"label_flipping_dataset.npz\"\n",
    "data = np.load(dataset_filename)\n",
    "X_train = data[\"Xtr\"]\n",
    "y_train = data[\"ytr\"]\n",
    "X_test = data[\"Xte\"]\n",
    "y_test = data[\"yte\"]\n",
    "data.close()\n"
   ]
  },
  {
   "cell_type": "code",
   "execution_count": null,
   "metadata": {
    "id": "e-Y2XgXNgoYE"
   },
   "outputs": [],
   "source": [
    "def targeted_class_label_flip(y, target_class=0, new_label=1, poison_fraction=0.7, seed=1337):\n",
    "    np.random.seed(seed)\n",
    "    target_indices = np.where(y == target_class)[0]\n",
    "    n_to_flip = int(len(target_indices) * poison_fraction)\n",
    "    flip_indices = np.random.choice(target_indices, n_to_flip, replace=False)\n",
    "    y_poisoned = np.copy(y)\n",
    "    y_poisoned[flip_indices] = new_label\n",
    "    return y_poisoned, flip_indices\n"
   ]
  },
  {
   "cell_type": "code",
   "execution_count": null,
   "metadata": {
    "id": "EOzn8u7vgry_"
   },
   "outputs": [],
   "source": [
    "y_train_poisoned, flipped_idx = targeted_class_label_flip(\n",
    "    y_train,\n",
    "    target_class=0,\n",
    "    new_label=1,\n",
    "    poison_fraction=0.7,\n",
    "    seed=1337,\n",
    ")\n"
   ]
  },
  {
   "cell_type": "code",
   "execution_count": null,
   "metadata": {
    "colab": {
     "base_uri": "https://localhost:8080/"
    },
    "executionInfo": {
     "elapsed": 228,
     "status": "ok",
     "timestamp": 1753697419314,
     "user": {
      "displayName": "htb student",
      "userId": "12566948904836042375"
     },
     "user_tz": -330
    },
    "id": "Ff0Jm335grwG",
    "outputId": "7c8916b8-4347-44bd-8f6f-32279627c144"
   },
   "outputs": [],
   "source": [
    "from sklearn.linear_model import LogisticRegression\n",
    "\n",
    "random_seed = 1337\n",
    "\n",
    "print(\"\\n--- Training Model on Poisoned Labels ---\")\n",
    "model = LogisticRegression(solver=\"lbfgs\", max_iter=1000, random_state=random_seed)\n",
    "\n",
    "try:\n",
    "    model.fit(X_train, y_train_poisoned)\n",
    "    print(\"Logistic Regression model trained successfully.\")\n",
    "except Exception as e:\n",
    "    print(f\"Error during model training: {e}\")\n",
    "    raise\n"
   ]
  },
  {
   "cell_type": "code",
   "execution_count": null,
   "metadata": {
    "colab": {
     "base_uri": "https://localhost:8080/"
    },
    "executionInfo": {
     "elapsed": 318,
     "status": "ok",
     "timestamp": 1753697441434,
     "user": {
      "displayName": "htb student",
      "userId": "12566948904836042375"
     },
     "user_tz": -330
    },
    "id": "v2sIiqJGg0fH",
    "outputId": "2e1f9124-6fd3-483e-bf3d-385de963b656"
   },
   "outputs": [],
   "source": [
    "print(\"\\n--- Extracting Model Parameters ---\")\n",
    "try:\n",
    "    weights = model.coef_\n",
    "    intercept = model.intercept_\n",
    "    print(f\"Extracted weights shape: {weights.shape}\")\n",
    "    print(f\"Extracted intercept shape: {intercept.shape}\")\n",
    "    weights_list = weights.tolist()\n",
    "    intercept_list = intercept.tolist()\n",
    "    parameters_extracted = True\n",
    "except Exception as e:\n",
    "    print(f\"An unexpected error occurred during parameter extraction: {e}\")\n",
    "    weights_list = None\n",
    "    intercept_list = None\n",
    "    parameters_extracted = False"
   ]
  },
  {
   "cell_type": "code",
   "execution_count": null,
   "metadata": {
    "colab": {
     "base_uri": "https://localhost:8080/"
    },
    "executionInfo": {
     "elapsed": 606,
     "status": "ok",
     "timestamp": 1753697521897,
     "user": {
      "displayName": "htb student",
      "userId": "12566948904836042375"
     },
     "user_tz": -330
    },
    "id": "J6zlb9Dig2uB",
    "outputId": "75f8e21b-e5f4-4073-e21b-56bf37090db8"
   },
   "outputs": [],
   "source": [
    "health_check_url = f\"{evaluator_base_url}/health\"\n",
    "print(f\"Checking evaluator health at: {health_check_url}\")\n",
    "if \"<EVALUATOR_IP>\" in evaluator_base_url:\n",
    "    print(\"\\n--- WARNING ---\")\n",
    "    print(\n",
    "        \"Please update the 'evaluator_base_url' variable with the correct IP and Port before running!\"\n",
    "    )\n",
    "    print(\"-------------\")\n",
    "else:\n",
    "    try:\n",
    "        response = requests.get(health_check_url, timeout=10)\n",
    "        response.raise_for_status()\n",
    "        health_status = response.json()\n",
    "        print(\"\\n--- Health Check Response ---\")\n",
    "        print(f\"Status: {health_status.get('status', 'N/A')}\")\n",
    "        print(f\"Message: {health_status.get('message', 'No message received.')}\")\n",
    "        if health_status.get(\"status\") != \"healthy\":\n",
    "            print(\n",
    "                \"\\nWarning: Evaluator service reported an unhealthy status. It might still be starting up or encountered an issue (like loading data).\"\n",
    "            )\n",
    "    except requests.exceptions.ConnectionError as e:\n",
    "        print(f\"\\nConnection Error: Could not connect to {health_check_url}.\")\n",
    "        print(\"Please check:\")\n",
    "        print(\"  1. The evaluator URL (IP address and port) is correct.\")\n",
    "        print(\"  2. The evaluator Docker container is running.\")\n",
    "        print(\n",
    "            \"  3. There are no network issues (firewalls, etc.) blocking the connection.\"\n",
    "        )\n",
    "    except requests.exceptions.Timeout:\n",
    "        print(f\"\\nTimeout Error: The request to {health_check_url} timed out.\")\n",
    "        print(\n",
    "            \"The server might be taking too long to respond or there could be network issues.\"\n",
    "        )\n",
    "    except requests.exceptions.RequestException as e:\n",
    "        print(f\"\\nError during health check request: {e}\")\n",
    "        print(\"Check the URL format and ensure the server is running.\")\n",
    "    except json.JSONDecodeError:\n",
    "        print(\"\\nError: Could not decode JSON response from health check.\")\n",
    "        print(\"The server might have sent an invalid response.\")\n",
    "        print(\n",
    "            f\"Raw response status: {response.status_code}, Raw response text: {response.text}\"\n",
    "        )\n",
    "    except Exception as e:\n",
    "        print(f\"\\nAn unexpected error occurred during health check: {e}\")"
   ]
  },
  {
   "cell_type": "code",
   "execution_count": null,
   "metadata": {
    "colab": {
     "base_uri": "https://localhost:8080/"
    },
    "executionInfo": {
     "elapsed": 717,
     "status": "ok",
     "timestamp": 1753697541674,
     "user": {
      "displayName": "htb student",
      "userId": "12566948904836042375"
     },
     "user_tz": -330
    },
    "id": "Kbd4hCKdg2pq",
    "outputId": "dbcde07a-eab3-41c6-fc94-13f395223f43"
   },
   "outputs": [],
   "source": [
    "evaluator_url = f\"{evaluator_base_url}/evaluate_targeted\"\n",
    "print(f\"\\nAttempting submission to: {evaluator_url}\")\n",
    "\n",
    "if not parameters_extracted:\n",
    "    print(\"Error: Cannot submit - parameters not extracted.\")\n",
    "elif \"<EVALUATOR_IP>\" in evaluator_base_url or \"<PORT>\" in evaluator_base_url:\n",
    "    print(\"\\n--- WARNING: Update evaluator_base_url ---\")\n",
    "else:\n",
    "    payload = {\"coef\": weights_list, \"intercept\": intercept_list}\n",
    "    print(f\"Payload preview: {json.dumps(payload, indent=2)}\")\n",
    "\n",
    "    try:\n",
    "        response = requests.post(evaluator_url, json=payload, timeout=30)\n",
    "        response.raise_for_status()\n",
    "        result = response.json()\n",
    "\n",
    "        print(\"\\n--- Evaluator Response ---\")\n",
    "        if result.get(\"success\"):\n",
    "            print(f\"{'=' * 10} Attack Successful! {'=' * 10}\")\n",
    "            oa_str = (\n",
    "                f\"{result.get('overall_accuracy', 'N/A'):.4f}\"\n",
    "                if isinstance(result.get(\"overall_accuracy\"), (int, float))\n",
    "                else \"N/A\"\n",
    "            )\n",
    "            c0a_str = (\n",
    "                f\"{result.get('class0_accuracy', 'N/A'):.4f}\"\n",
    "                if isinstance(result.get(\"class0_accuracy\"), (int, float))\n",
    "                else \"N/A\"\n",
    "            )  # Get Class 0 Accuracy\n",
    "            print(f\"Overall Accuracy evaluated: {oa_str}\")\n",
    "            print(f\"Accuracy on Class 0 samples: {c0a_str}\")  # Display Class 0 Accuracy\n",
    "            print(f\"Message: {result.get('message', 'N/A')}\")\n",
    "            print(f\"\\nFLAG: {result.get('flag')}\")\n",
    "            print(f\"{'=' * 38}\")\n",
    "        else:\n",
    "            print(\"Evaluation Failed.\")\n",
    "            oa_val = result.get(\"overall_accuracy\")\n",
    "            c0a_val = result.get(\"class0_accuracy\")  # Get Class 0 Accuracy\n",
    "            oa_str = f\"{oa_val:.4f}\" if oa_val is not None else \"N/A\"\n",
    "            c0a_str = (\n",
    "                f\"{c0a_val:.4f}\" if c0a_val is not None else \"N/A\"\n",
    "            )  # Get Class 0 Accuracy\n",
    "\n",
    "            print(f\"Overall Accuracy evaluated: {oa_str}\")\n",
    "            print(f\"Accuracy on Class 0 samples: {c0a_str}\")  # Display Class 0 Accuracy\n",
    "            print(f\"Message: {result.get('message', 'No message provided.')}\")\n",
    "            print(\n",
    "                \"\\nHints: Did the attack significantly reduce accuracy specifically for Class 0 samples?\"\n",
    "            )\n",
    "            print(\"Did the overall accuracy remain above the required threshold?\")\n",
    "            print(\"Consider adjusting the POISON_FRACTION.\")\n",
    "\n",
    "    except requests.exceptions.ConnectionError:\n",
    "        print(f\"\\nConnection Error: Could not connect to {evaluator_url}.\")\n",
    "    except requests.exceptions.Timeout:\n",
    "        print(f\"\\nTimeout Error: Request to {evaluator_url} timed out.\")\n",
    "    except requests.exceptions.RequestException as e:\n",
    "        print(f\"\\nError during submission request: {e}\")\n",
    "        if e.response is not None:\n",
    "            print(f\"Server Response Status Code: {e.response.status_code}\")\n",
    "            \n",
    "            try:\n",
    "                print(f\"Server Response Body: {e.response.json()}\")\n",
    "            except json.JSONDecodeError:\n",
    "                print(f\"Server Response Body (non-JSON): {e.response.text}\")\n",
    "    except Exception as e:\n",
    "        print(f\"\\nAn unexpected error occurred during submission: {e}\")"
   ]
  },
  {
   "cell_type": "code",
   "execution_count": null,
   "metadata": {
    "id": "rqiSP04gx737"
   },
   "outputs": [],
   "source": []
  },
  {
   "cell_type": "markdown",
   "metadata": {
    "id": "0a86d8b3"
   },
   "source": [
    "# Targeted Label Flipping Attack\n",
    "\n",
    "This notebook demonstrates a targeted label flipping attack against a logistic regression model.\n",
    "\n",
    "## Overview\n",
    "\n",
    "Label flipping is a type of data poisoning attack where an adversary intentionally modifies the labels of a subset of training data to compromise the integrity of a machine learning model. In a *targeted* attack, the goal is to cause the model to misclassify specific instances or classes, rather than simply degrading overall performance.\n",
    "\n",
    "This project focuses on a targeted attack where the goal is to make a logistic regression model perform poorly on samples belonging to a specific target class (Class 0 in this case) by flipping a fraction of their labels to another class (Class 1).\n",
    "\n",
    "## Dataset\n",
    "\n",
    "The project uses a synthetic dataset loaded from `label_flipping_dataset.npz`. This dataset contains features (`X_train`, `X_test`) and corresponding labels (`y_train`, `y_test`). The dataset is designed to be simple enough to demonstrate the attack effectively.\n",
    "\n",
    "## Attack Methodology\n",
    "\n",
    "1.  **Data Loading:** Load the training and testing data.\n",
    "2.  **Targeted Label Flipping:** Implement a function (`targeted_class_label_flip`) to select a fraction of samples from the `target_class` and change their labels to the `new_label`.\n",
    "3.  **Model Training:** Train a logistic regression model on the poisoned training data (`X_train`, `y_train_poisoned`).\n",
    "4.  **Evaluation:** Evaluate the performance of the trained model, specifically focusing on:\n",
    "    *   Overall accuracy.\n",
    "    *   Accuracy on the `target_class` samples.\n",
    "5.  **Submission:** Submit the trained model's parameters (weights and intercept) to an external evaluator service to verify the attack's success against predefined criteria (e.g., significantly reduced accuracy on the target class while maintaining a minimum overall accuracy).\n",
    "\n",
    "## Code Structure\n",
    "\n",
    "*   `targeted_class_label_flip(y, target_class, new_label, poison_fraction, seed)`: Function to perform the label flipping.\n",
    "*   Data loading and splitting code.\n",
    "*   Model training code using `sklearn.linear_model.LogisticRegression`.\n",
    "*   Code to extract model parameters.\n",
    "*   Code to interact with an external evaluator service via HTTP requests.\n",
    "\n",
    "## Running the Notebook\n",
    "\n",
    "1.  Ensure the `label_flipping_dataset.npz` file is accessible.\n",
    "2.  Update the `evaluator_base_url` variable with the correct IP and port of the running evaluator service.\n",
    "3.  Run the cells sequentially.\n",
    "\n",
    "The output will show the training process, parameter extraction, health check of the evaluator, and the final evaluation result, including whether the targeted attack was successful based on the evaluator's criteria.\n",
    "\n",
    "## Requirements\n",
    "\n",
    "*   Python 3.x\n",
    "*   numpy\n",
    "*   scikit-learn\n",
    "*   requests\n",
    "\n",
    "(These dependencies are typically available in a Colab environment)."
   ]
  }
 ],
 "metadata": {
  "accelerator": "GPU",
  "colab": {
   "authorship_tag": "ABX9TyMVynWaSQsqQ/DSWFLMCvnM",
   "gpuType": "T4",
   "provenance": []
  },
  "kernelspec": {
   "display_name": "Python 3",
   "name": "python3"
  },
  "language_info": {
   "name": "python"
  }
 },
 "nbformat": 4,
 "nbformat_minor": 0
}
